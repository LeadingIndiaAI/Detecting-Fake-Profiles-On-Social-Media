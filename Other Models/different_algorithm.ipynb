{
  "nbformat": 4,
  "nbformat_minor": 0,
  "metadata": {
    "kernelspec": {
      "display_name": "Python 3",
      "language": "python",
      "name": "python3"
    },
    "language_info": {
      "codemirror_mode": {
        "name": "ipython",
        "version": 3
      },
      "file_extension": ".py",
      "mimetype": "text/x-python",
      "name": "python",
      "nbconvert_exporter": "python",
      "pygments_lexer": "ipython3",
      "version": "3.7.4"
    },
    "colab": {
      "name": "different algorithm.ipynb",
      "provenance": [],
      "collapsed_sections": [],
      "toc_visible": true
    }
  },
  "cells": [
    {
      "cell_type": "markdown",
      "metadata": {
        "id": "JFbNVWIt8Kxl",
        "colab_type": "text"
      },
      "source": [
        "# Import Libraries"
      ]
    },
    {
      "cell_type": "code",
      "metadata": {
        "id": "TvWkYRW1Mz-e",
        "colab_type": "code",
        "colab": {
          "base_uri": "https://localhost:8080/",
          "height": 34
        },
        "outputId": "f4335ba2-af7c-4799-d465-2d243f1e65c5"
      },
      "source": [
        "import pandas as pd\n",
        "import numpy as np\n",
        "import matplotlib.pyplot as plt\n",
        "import pandas_profiling as pp\n",
        "import keras as k\n",
        "# import gender_guesser.detector as gender"
      ],
      "execution_count": null,
      "outputs": [
        {
          "output_type": "stream",
          "text": [
            "Using TensorFlow backend.\n"
          ],
          "name": "stderr"
        }
      ]
    },
    {
      "cell_type": "code",
      "metadata": {
        "id": "A7GbErLXMz-s",
        "colab_type": "code",
        "colab": {}
      },
      "source": [
        "import warnings\n",
        "warnings.filterwarnings(\"ignore\")"
      ],
      "execution_count": null,
      "outputs": []
    },
    {
      "cell_type": "code",
      "metadata": {
        "id": "P_KYwwhuMz-4",
        "colab_type": "code",
        "colab": {}
      },
      "source": [
        "df_users = pd.read_csv(\"/content/dataset/users.csv\")\n",
        "df_fusers = pd.read_csv(\"/content/dataset/fusers.csv\")"
      ],
      "execution_count": null,
      "outputs": []
    },
    {
      "cell_type": "code",
      "metadata": {
        "id": "46SgZqU2Mz_A",
        "colab_type": "code",
        "colab": {
          "base_uri": "https://localhost:8080/",
          "height": 51
        },
        "outputId": "c3560ccf-5ec1-4a77-aee6-00e71c045feb"
      },
      "source": [
        "print(df_fusers.shape)\n",
        "print(df_users.shape)"
      ],
      "execution_count": null,
      "outputs": [
        {
          "output_type": "stream",
          "text": [
            "(3351, 38)\n",
            "(3474, 42)\n"
          ],
          "name": "stdout"
        }
      ]
    },
    {
      "cell_type": "markdown",
      "metadata": {
        "id": "0TRypCg98hns",
        "colab_type": "text"
      },
      "source": [
        "# Data Pre-Processing"
      ]
    },
    {
      "cell_type": "code",
      "metadata": {
        "id": "nNpdHNU5Mz_J",
        "colab_type": "code",
        "colab": {
          "base_uri": "https://localhost:8080/",
          "height": 680
        },
        "outputId": "85eea245-b080-4855-86be-eaca88c98225"
      },
      "source": [
        "df_fusers.isnull().sum()"
      ],
      "execution_count": null,
      "outputs": [
        {
          "output_type": "execute_result",
          "data": {
            "text/plain": [
              "id                                       0\n",
              "name                                     0\n",
              "screen_name                              0\n",
              "statuses_count                           0\n",
              "followers_count                          0\n",
              "friends_count                            0\n",
              "favourites_count                         0\n",
              "listed_count                             0\n",
              "created_at                               0\n",
              "url                                   3250\n",
              "lang                                     0\n",
              "time_zone                             3016\n",
              "location                               575\n",
              "default_profile                        317\n",
              "default_profile_image                 3345\n",
              "geo_enabled                           3212\n",
              "profile_image_url                        0\n",
              "profile_banner_url                    3284\n",
              "profile_use_background_image             9\n",
              "profile_background_image_url_https       0\n",
              "profile_text_color                       0\n",
              "profile_image_url_https                  0\n",
              "profile_sidebar_border_color             0\n",
              "profile_background_tile               3181\n",
              "profile_sidebar_fill_color               0\n",
              "profile_background_image_url             0\n",
              "profile_background_color                 0\n",
              "profile_link_color                       0\n",
              "utc_offset                            3016\n",
              "is_translator                         3351\n",
              "follow_request_sent                   3351\n",
              "protected                             3351\n",
              "verified                              3351\n",
              "notifications                         3351\n",
              "description                           1073\n",
              "contributors_enabled                  3351\n",
              "following                             3351\n",
              "updated                                  0\n",
              "dtype: int64"
            ]
          },
          "metadata": {
            "tags": []
          },
          "execution_count": 6
        }
      ]
    },
    {
      "cell_type": "code",
      "metadata": {
        "id": "5ui7KJYmMz_R",
        "colab_type": "code",
        "colab": {}
      },
      "source": [
        "#for df_fusers\n",
        "isFake = np.ones(3351)\n",
        "\n",
        "#for df_users\n",
        "isNotFake = np.zeros(3474)"
      ],
      "execution_count": null,
      "outputs": []
    },
    {
      "cell_type": "code",
      "metadata": {
        "id": "JR0dz6E8Mz_Z",
        "colab_type": "code",
        "colab": {}
      },
      "source": [
        "#adding is fake or not column to make predictions for it\n",
        "df_fusers[\"isFake\"] = isFake\n",
        "df_users[\"isFake\"] = isNotFake\n"
      ],
      "execution_count": null,
      "outputs": []
    },
    {
      "cell_type": "code",
      "metadata": {
        "id": "gAnaG6O9Mz_f",
        "colab_type": "code",
        "colab": {}
      },
      "source": [
        "df_allUsers = pd.concat([df_fusers, df_users], ignore_index=True)\n",
        "df_allUsers.columns = df_allUsers.columns.str.strip()"
      ],
      "execution_count": null,
      "outputs": []
    },
    {
      "cell_type": "code",
      "metadata": {
        "id": "CY8NtgrIMz_m",
        "colab_type": "code",
        "colab": {}
      },
      "source": [
        "#to shuffle the whole data\n",
        "df_allUsers = df_allUsers.sample(frac=1).reset_index(drop=True)"
      ],
      "execution_count": null,
      "outputs": []
    },
    {
      "cell_type": "code",
      "metadata": {
        "id": "6nwv7e-SMz_r",
        "colab_type": "code",
        "colab": {
          "base_uri": "https://localhost:8080/",
          "height": 317
        },
        "outputId": "87558c77-b026-45c2-95c9-cc67a1925872"
      },
      "source": [
        "df_allUsers.describe()"
      ],
      "execution_count": null,
      "outputs": [
        {
          "output_type": "execute_result",
          "data": {
            "text/html": [
              "<div>\n",
              "<style scoped>\n",
              "    .dataframe tbody tr th:only-of-type {\n",
              "        vertical-align: middle;\n",
              "    }\n",
              "\n",
              "    .dataframe tbody tr th {\n",
              "        vertical-align: top;\n",
              "    }\n",
              "\n",
              "    .dataframe thead th {\n",
              "        text-align: right;\n",
              "    }\n",
              "</style>\n",
              "<table border=\"1\" class=\"dataframe\">\n",
              "  <thead>\n",
              "    <tr style=\"text-align: right;\">\n",
              "      <th></th>\n",
              "      <th>id</th>\n",
              "      <th>statuses_count</th>\n",
              "      <th>followers_count</th>\n",
              "      <th>friends_count</th>\n",
              "      <th>favourites_count</th>\n",
              "      <th>listed_count</th>\n",
              "      <th>default_profile</th>\n",
              "      <th>default_profile_image</th>\n",
              "      <th>geo_enabled</th>\n",
              "      <th>profile_use_background_image</th>\n",
              "      <th>profile_background_tile</th>\n",
              "      <th>utc_offset</th>\n",
              "      <th>is_translator</th>\n",
              "      <th>follow_request_sent</th>\n",
              "      <th>protected</th>\n",
              "      <th>verified</th>\n",
              "      <th>notifications</th>\n",
              "      <th>contributors_enabled</th>\n",
              "      <th>following</th>\n",
              "      <th>isFake</th>\n",
              "      <th>test_set_1</th>\n",
              "      <th>test_set_2</th>\n",
              "    </tr>\n",
              "  </thead>\n",
              "  <tbody>\n",
              "    <tr>\n",
              "      <th>count</th>\n",
              "      <td>6.825000e+03</td>\n",
              "      <td>6825.000000</td>\n",
              "      <td>6825.000000</td>\n",
              "      <td>6825.000000</td>\n",
              "      <td>6825.000000</td>\n",
              "      <td>6825.000000</td>\n",
              "      <td>4066.0</td>\n",
              "      <td>19.0</td>\n",
              "      <td>2294.0</td>\n",
              "      <td>6426.0</td>\n",
              "      <td>1477.0</td>\n",
              "      <td>2810.000000</td>\n",
              "      <td>1.0</td>\n",
              "      <td>0.0</td>\n",
              "      <td>78.0</td>\n",
              "      <td>11.0</td>\n",
              "      <td>0.0</td>\n",
              "      <td>0.0</td>\n",
              "      <td>0.0</td>\n",
              "      <td>6825.000000</td>\n",
              "      <td>3474.000000</td>\n",
              "      <td>3474.000000</td>\n",
              "    </tr>\n",
              "    <tr>\n",
              "      <th>mean</th>\n",
              "      <td>8.499737e+08</td>\n",
              "      <td>8667.221685</td>\n",
              "      <td>717.874432</td>\n",
              "      <td>504.022564</td>\n",
              "      <td>2378.999121</td>\n",
              "      <td>9.959853</td>\n",
              "      <td>1.0</td>\n",
              "      <td>1.0</td>\n",
              "      <td>1.0</td>\n",
              "      <td>1.0</td>\n",
              "      <td>1.0</td>\n",
              "      <td>-4889.145907</td>\n",
              "      <td>1.0</td>\n",
              "      <td>NaN</td>\n",
              "      <td>1.0</td>\n",
              "      <td>1.0</td>\n",
              "      <td>NaN</td>\n",
              "      <td>NaN</td>\n",
              "      <td>NaN</td>\n",
              "      <td>0.490989</td>\n",
              "      <td>0.287853</td>\n",
              "      <td>0.141048</td>\n",
              "    </tr>\n",
              "    <tr>\n",
              "      <th>std</th>\n",
              "      <td>7.662248e+08</td>\n",
              "      <td>23473.945131</td>\n",
              "      <td>12301.657025</td>\n",
              "      <td>1159.286294</td>\n",
              "      <td>8548.235726</td>\n",
              "      <td>112.952257</td>\n",
              "      <td>0.0</td>\n",
              "      <td>0.0</td>\n",
              "      <td>0.0</td>\n",
              "      <td>0.0</td>\n",
              "      <td>0.0</td>\n",
              "      <td>22037.451204</td>\n",
              "      <td>NaN</td>\n",
              "      <td>NaN</td>\n",
              "      <td>0.0</td>\n",
              "      <td>0.0</td>\n",
              "      <td>NaN</td>\n",
              "      <td>NaN</td>\n",
              "      <td>NaN</td>\n",
              "      <td>0.499955</td>\n",
              "      <td>0.452827</td>\n",
              "      <td>0.348121</td>\n",
              "    </tr>\n",
              "    <tr>\n",
              "      <th>min</th>\n",
              "      <td>6.780330e+05</td>\n",
              "      <td>0.000000</td>\n",
              "      <td>0.000000</td>\n",
              "      <td>0.000000</td>\n",
              "      <td>0.000000</td>\n",
              "      <td>0.000000</td>\n",
              "      <td>1.0</td>\n",
              "      <td>1.0</td>\n",
              "      <td>1.0</td>\n",
              "      <td>1.0</td>\n",
              "      <td>1.0</td>\n",
              "      <td>-39600.000000</td>\n",
              "      <td>1.0</td>\n",
              "      <td>NaN</td>\n",
              "      <td>1.0</td>\n",
              "      <td>1.0</td>\n",
              "      <td>NaN</td>\n",
              "      <td>NaN</td>\n",
              "      <td>NaN</td>\n",
              "      <td>0.000000</td>\n",
              "      <td>0.000000</td>\n",
              "      <td>0.000000</td>\n",
              "    </tr>\n",
              "    <tr>\n",
              "      <th>25%</th>\n",
              "      <td>2.597067e+08</td>\n",
              "      <td>23.000000</td>\n",
              "      <td>12.000000</td>\n",
              "      <td>206.000000</td>\n",
              "      <td>0.000000</td>\n",
              "      <td>0.000000</td>\n",
              "      <td>1.0</td>\n",
              "      <td>1.0</td>\n",
              "      <td>1.0</td>\n",
              "      <td>1.0</td>\n",
              "      <td>1.0</td>\n",
              "      <td>-25200.000000</td>\n",
              "      <td>1.0</td>\n",
              "      <td>NaN</td>\n",
              "      <td>1.0</td>\n",
              "      <td>1.0</td>\n",
              "      <td>NaN</td>\n",
              "      <td>NaN</td>\n",
              "      <td>NaN</td>\n",
              "      <td>0.000000</td>\n",
              "      <td>0.000000</td>\n",
              "      <td>0.000000</td>\n",
              "    </tr>\n",
              "    <tr>\n",
              "      <th>50%</th>\n",
              "      <td>6.168972e+08</td>\n",
              "      <td>190.000000</td>\n",
              "      <td>33.000000</td>\n",
              "      <td>312.000000</td>\n",
              "      <td>10.000000</td>\n",
              "      <td>0.000000</td>\n",
              "      <td>1.0</td>\n",
              "      <td>1.0</td>\n",
              "      <td>1.0</td>\n",
              "      <td>1.0</td>\n",
              "      <td>1.0</td>\n",
              "      <td>-14400.000000</td>\n",
              "      <td>1.0</td>\n",
              "      <td>NaN</td>\n",
              "      <td>1.0</td>\n",
              "      <td>1.0</td>\n",
              "      <td>NaN</td>\n",
              "      <td>NaN</td>\n",
              "      <td>NaN</td>\n",
              "      <td>0.000000</td>\n",
              "      <td>0.000000</td>\n",
              "      <td>0.000000</td>\n",
              "    </tr>\n",
              "    <tr>\n",
              "      <th>75%</th>\n",
              "      <td>1.174963e+09</td>\n",
              "      <td>6900.000000</td>\n",
              "      <td>349.000000</td>\n",
              "      <td>555.000000</td>\n",
              "      <td>1360.000000</td>\n",
              "      <td>2.000000</td>\n",
              "      <td>1.0</td>\n",
              "      <td>1.0</td>\n",
              "      <td>1.0</td>\n",
              "      <td>1.0</td>\n",
              "      <td>1.0</td>\n",
              "      <td>13500.000000</td>\n",
              "      <td>1.0</td>\n",
              "      <td>NaN</td>\n",
              "      <td>1.0</td>\n",
              "      <td>1.0</td>\n",
              "      <td>NaN</td>\n",
              "      <td>NaN</td>\n",
              "      <td>NaN</td>\n",
              "      <td>1.000000</td>\n",
              "      <td>1.000000</td>\n",
              "      <td>0.000000</td>\n",
              "    </tr>\n",
              "    <tr>\n",
              "      <th>max</th>\n",
              "      <td>3.164942e+09</td>\n",
              "      <td>399555.000000</td>\n",
              "      <td>986837.000000</td>\n",
              "      <td>46310.000000</td>\n",
              "      <td>313954.000000</td>\n",
              "      <td>6166.000000</td>\n",
              "      <td>1.0</td>\n",
              "      <td>1.0</td>\n",
              "      <td>1.0</td>\n",
              "      <td>1.0</td>\n",
              "      <td>1.0</td>\n",
              "      <td>46800.000000</td>\n",
              "      <td>1.0</td>\n",
              "      <td>NaN</td>\n",
              "      <td>1.0</td>\n",
              "      <td>1.0</td>\n",
              "      <td>NaN</td>\n",
              "      <td>NaN</td>\n",
              "      <td>NaN</td>\n",
              "      <td>1.000000</td>\n",
              "      <td>1.000000</td>\n",
              "      <td>1.000000</td>\n",
              "    </tr>\n",
              "  </tbody>\n",
              "</table>\n",
              "</div>"
            ],
            "text/plain": [
              "                 id  statuses_count  ...   test_set_1   test_set_2\n",
              "count  6.825000e+03     6825.000000  ...  3474.000000  3474.000000\n",
              "mean   8.499737e+08     8667.221685  ...     0.287853     0.141048\n",
              "std    7.662248e+08    23473.945131  ...     0.452827     0.348121\n",
              "min    6.780330e+05        0.000000  ...     0.000000     0.000000\n",
              "25%    2.597067e+08       23.000000  ...     0.000000     0.000000\n",
              "50%    6.168972e+08      190.000000  ...     0.000000     0.000000\n",
              "75%    1.174963e+09     6900.000000  ...     1.000000     0.000000\n",
              "max    3.164942e+09   399555.000000  ...     1.000000     1.000000\n",
              "\n",
              "[8 rows x 22 columns]"
            ]
          },
          "metadata": {
            "tags": []
          },
          "execution_count": 11
        }
      ]
    },
    {
      "cell_type": "code",
      "metadata": {
        "scrolled": true,
        "id": "Y6uopmZnMz_y",
        "colab_type": "code",
        "colab": {
          "base_uri": "https://localhost:8080/",
          "height": 255
        },
        "outputId": "df6ae7ca-35e3-4ffa-988b-106507462d5e"
      },
      "source": [
        "df_allUsers.head"
      ],
      "execution_count": null,
      "outputs": [
        {
          "output_type": "execute_result",
          "data": {
            "text/plain": [
              "<bound method NDFrame.head of               id               name  ... test_set_1  test_set_2\n",
              "0      616227442       Albert Roach  ...        NaN         NaN\n",
              "1      616634356  Bernardina Booker  ...        NaN         NaN\n",
              "2      836742500            Camiiii  ...        1.0         0.0\n",
              "3      448116475     Влад из Самары  ...        NaN         NaN\n",
              "4      169325249       Jeff Topping  ...        1.0         1.0\n",
              "...          ...                ...  ...        ...         ...\n",
              "6820   275595583   Thiago Marcelino  ...        NaN         NaN\n",
              "6821   731955936     brooke eubanks  ...        1.0         1.0\n",
              "6822  1079378204         Didneylend  ...        0.0         0.0\n",
              "6823  2324994222          ╰•TuneD•╯  ...        0.0         0.0\n",
              "6824  1174750884   Sharilyn Clifton  ...        NaN         NaN\n",
              "\n",
              "[6825 rows x 43 columns]>"
            ]
          },
          "metadata": {
            "tags": []
          },
          "execution_count": 12
        }
      ]
    },
    {
      "cell_type": "code",
      "metadata": {
        "id": "YKwNJd4yMz_6",
        "colab_type": "code",
        "colab": {}
      },
      "source": [
        "Y = df_allUsers.isFake"
      ],
      "execution_count": null,
      "outputs": []
    },
    {
      "cell_type": "code",
      "metadata": {
        "id": "IvIa-Gf4M0AB",
        "colab_type": "code",
        "colab": {
          "base_uri": "https://localhost:8080/",
          "height": 119
        },
        "outputId": "859e16b0-557d-4541-e2ca-a9801be4b405"
      },
      "source": [
        "Y.head()"
      ],
      "execution_count": null,
      "outputs": [
        {
          "output_type": "execute_result",
          "data": {
            "text/plain": [
              "0    1.0\n",
              "1    1.0\n",
              "2    0.0\n",
              "3    1.0\n",
              "4    0.0\n",
              "Name: isFake, dtype: float64"
            ]
          },
          "metadata": {
            "tags": []
          },
          "execution_count": 14
        }
      ]
    },
    {
      "cell_type": "code",
      "metadata": {
        "id": "W18epijrM0AJ",
        "colab_type": "code",
        "colab": {
          "base_uri": "https://localhost:8080/",
          "height": 255
        },
        "outputId": "b9a9295a-e4ff-4583-ca4a-3e5f399edd53"
      },
      "source": [
        "df_allUsers.columns"
      ],
      "execution_count": null,
      "outputs": [
        {
          "output_type": "execute_result",
          "data": {
            "text/plain": [
              "Index(['id', 'name', 'screen_name', 'statuses_count', 'followers_count',\n",
              "       'friends_count', 'favourites_count', 'listed_count', 'created_at',\n",
              "       'url', 'lang', 'time_zone', 'location', 'default_profile',\n",
              "       'default_profile_image', 'geo_enabled', 'profile_image_url',\n",
              "       'profile_banner_url', 'profile_use_background_image',\n",
              "       'profile_background_image_url_https', 'profile_text_color',\n",
              "       'profile_image_url_https', 'profile_sidebar_border_color',\n",
              "       'profile_background_tile', 'profile_sidebar_fill_color',\n",
              "       'profile_background_image_url', 'profile_background_color',\n",
              "       'profile_link_color', 'utc_offset', 'is_translator',\n",
              "       'follow_request_sent', 'protected', 'verified', 'notifications',\n",
              "       'description', 'contributors_enabled', 'following', 'updated', 'isFake',\n",
              "       'timestamp', 'crawled_at', 'test_set_1', 'test_set_2'],\n",
              "      dtype='object')"
            ]
          },
          "metadata": {
            "tags": []
          },
          "execution_count": 15
        }
      ]
    },
    {
      "cell_type": "code",
      "metadata": {
        "id": "rH4pKpTFM0AP",
        "colab_type": "code",
        "colab": {}
      },
      "source": [
        "df1=df_allUsers[['id','favourites_count','followers_count','statuses_count','friends_count','default_profile','default_profile_image','profile_use_background_image','utc_offset','listed_count','geo_enabled','lang','isFake']]"
      ],
      "execution_count": null,
      "outputs": []
    },
    {
      "cell_type": "code",
      "metadata": {
        "id": "CuUHzeVfM0AW",
        "colab_type": "code",
        "colab": {
          "base_uri": "https://localhost:8080/",
          "height": 224
        },
        "outputId": "5a8c51ba-ad9e-47a7-b70d-fcedafef2458"
      },
      "source": [
        "df1.head()"
      ],
      "execution_count": null,
      "outputs": [
        {
          "output_type": "execute_result",
          "data": {
            "text/html": [
              "<div>\n",
              "<style scoped>\n",
              "    .dataframe tbody tr th:only-of-type {\n",
              "        vertical-align: middle;\n",
              "    }\n",
              "\n",
              "    .dataframe tbody tr th {\n",
              "        vertical-align: top;\n",
              "    }\n",
              "\n",
              "    .dataframe thead th {\n",
              "        text-align: right;\n",
              "    }\n",
              "</style>\n",
              "<table border=\"1\" class=\"dataframe\">\n",
              "  <thead>\n",
              "    <tr style=\"text-align: right;\">\n",
              "      <th></th>\n",
              "      <th>id</th>\n",
              "      <th>favourites_count</th>\n",
              "      <th>followers_count</th>\n",
              "      <th>statuses_count</th>\n",
              "      <th>friends_count</th>\n",
              "      <th>default_profile</th>\n",
              "      <th>default_profile_image</th>\n",
              "      <th>profile_use_background_image</th>\n",
              "      <th>utc_offset</th>\n",
              "      <th>listed_count</th>\n",
              "      <th>geo_enabled</th>\n",
              "      <th>lang</th>\n",
              "      <th>isFake</th>\n",
              "    </tr>\n",
              "  </thead>\n",
              "  <tbody>\n",
              "    <tr>\n",
              "      <th>0</th>\n",
              "      <td>616227442</td>\n",
              "      <td>0</td>\n",
              "      <td>21</td>\n",
              "      <td>52</td>\n",
              "      <td>527</td>\n",
              "      <td>1.0</td>\n",
              "      <td>NaN</td>\n",
              "      <td>1.0</td>\n",
              "      <td>NaN</td>\n",
              "      <td>0</td>\n",
              "      <td>NaN</td>\n",
              "      <td>en</td>\n",
              "      <td>1.0</td>\n",
              "    </tr>\n",
              "    <tr>\n",
              "      <th>1</th>\n",
              "      <td>616634356</td>\n",
              "      <td>0</td>\n",
              "      <td>13</td>\n",
              "      <td>37</td>\n",
              "      <td>404</td>\n",
              "      <td>1.0</td>\n",
              "      <td>NaN</td>\n",
              "      <td>1.0</td>\n",
              "      <td>NaN</td>\n",
              "      <td>0</td>\n",
              "      <td>NaN</td>\n",
              "      <td>en</td>\n",
              "      <td>1.0</td>\n",
              "    </tr>\n",
              "    <tr>\n",
              "      <th>2</th>\n",
              "      <td>836742500</td>\n",
              "      <td>13256</td>\n",
              "      <td>1293</td>\n",
              "      <td>52736</td>\n",
              "      <td>1226</td>\n",
              "      <td>NaN</td>\n",
              "      <td>NaN</td>\n",
              "      <td>1.0</td>\n",
              "      <td>NaN</td>\n",
              "      <td>6</td>\n",
              "      <td>1.0</td>\n",
              "      <td>en</td>\n",
              "      <td>0.0</td>\n",
              "    </tr>\n",
              "    <tr>\n",
              "      <th>3</th>\n",
              "      <td>448116475</td>\n",
              "      <td>11</td>\n",
              "      <td>2</td>\n",
              "      <td>34</td>\n",
              "      <td>584</td>\n",
              "      <td>1.0</td>\n",
              "      <td>NaN</td>\n",
              "      <td>1.0</td>\n",
              "      <td>NaN</td>\n",
              "      <td>0</td>\n",
              "      <td>NaN</td>\n",
              "      <td>ru</td>\n",
              "      <td>1.0</td>\n",
              "    </tr>\n",
              "    <tr>\n",
              "      <th>4</th>\n",
              "      <td>169325249</td>\n",
              "      <td>107</td>\n",
              "      <td>407</td>\n",
              "      <td>4996</td>\n",
              "      <td>416</td>\n",
              "      <td>NaN</td>\n",
              "      <td>NaN</td>\n",
              "      <td>1.0</td>\n",
              "      <td>-25200.0</td>\n",
              "      <td>7</td>\n",
              "      <td>1.0</td>\n",
              "      <td>en</td>\n",
              "      <td>0.0</td>\n",
              "    </tr>\n",
              "  </tbody>\n",
              "</table>\n",
              "</div>"
            ],
            "text/plain": [
              "          id  favourites_count  followers_count  ...  geo_enabled  lang  isFake\n",
              "0  616227442                 0               21  ...          NaN    en     1.0\n",
              "1  616634356                 0               13  ...          NaN    en     1.0\n",
              "2  836742500             13256             1293  ...          1.0    en     0.0\n",
              "3  448116475                11                2  ...          NaN    ru     1.0\n",
              "4  169325249               107              407  ...          1.0    en     0.0\n",
              "\n",
              "[5 rows x 13 columns]"
            ]
          },
          "metadata": {
            "tags": []
          },
          "execution_count": 17
        }
      ]
    },
    {
      "cell_type": "code",
      "metadata": {
        "id": "y0C_ajyjM0Aa",
        "colab_type": "code",
        "colab": {
          "base_uri": "https://localhost:8080/",
          "height": 54
        },
        "outputId": "905d5c4a-f6ff-49f3-aeed-e2da61613c0e"
      },
      "source": [
        "lang_list = list(enumerate(np.unique(df1[\"lang\"])))\n",
        "lang_dict = {name : i for i, name in lang_list}\n",
        "print(lang_dict)"
      ],
      "execution_count": null,
      "outputs": [
        {
          "output_type": "stream",
          "text": [
            "{'Select Language...': 0, 'ar': 1, 'da': 2, 'de': 3, 'el': 4, 'en': 5, 'en-AU': 6, 'en-GB': 7, 'en-gb': 8, 'es': 9, 'fil': 10, 'fr': 11, 'id': 12, 'it': 13, 'ja': 14, 'ko': 15, 'nl': 16, 'pl': 17, 'pt': 18, 'ru': 19, 'sv': 20, 'tr': 21, 'xx-lc': 22, 'zh-TW': 23, 'zh-cn': 24, 'zh-tw': 25}\n"
          ],
          "name": "stdout"
        }
      ]
    },
    {
      "cell_type": "code",
      "metadata": {
        "id": "XRBYLwz0M0Af",
        "colab_type": "code",
        "colab": {}
      },
      "source": [
        "z=df1.loc[:, \"lang_num\"] = df1[\"lang\"].map(lambda x: lang_dict[x]).astype(int)\n"
      ],
      "execution_count": null,
      "outputs": []
    },
    {
      "cell_type": "code",
      "metadata": {
        "id": "E1SuDW1nM0Aj",
        "colab_type": "code",
        "colab": {}
      },
      "source": [
        "lang_list = list(enumerate(np.unique(df1[\"lang\"])))\n",
        "lang_dict = {name : i for i, name in lang_list}\n",
        "df1.loc[:, \"lang_num\"] = df1[\"lang\"].map(lambda x: lang_dict[x]).astype(int)"
      ],
      "execution_count": null,
      "outputs": []
    },
    {
      "cell_type": "code",
      "metadata": {
        "id": "DIpLJkhvM0Ao",
        "colab_type": "code",
        "colab": {}
      },
      "source": [
        "df1.drop([\"lang\"], axis=1, inplace=True)"
      ],
      "execution_count": null,
      "outputs": []
    },
    {
      "cell_type": "code",
      "metadata": {
        "id": "6RmEJ42HM0Au",
        "colab_type": "code",
        "colab": {}
      },
      "source": [
        "df1.drop([\"isFake\"], axis=1, inplace=True)"
      ],
      "execution_count": null,
      "outputs": []
    },
    {
      "cell_type": "code",
      "metadata": {
        "id": "n283KmlPM0A6",
        "colab_type": "code",
        "colab": {
          "base_uri": "https://localhost:8080/",
          "height": 224
        },
        "outputId": "79ec6c32-d608-4e89-c126-767857ef1ec2"
      },
      "source": [
        "df1.head()"
      ],
      "execution_count": null,
      "outputs": [
        {
          "output_type": "execute_result",
          "data": {
            "text/html": [
              "<div>\n",
              "<style scoped>\n",
              "    .dataframe tbody tr th:only-of-type {\n",
              "        vertical-align: middle;\n",
              "    }\n",
              "\n",
              "    .dataframe tbody tr th {\n",
              "        vertical-align: top;\n",
              "    }\n",
              "\n",
              "    .dataframe thead th {\n",
              "        text-align: right;\n",
              "    }\n",
              "</style>\n",
              "<table border=\"1\" class=\"dataframe\">\n",
              "  <thead>\n",
              "    <tr style=\"text-align: right;\">\n",
              "      <th></th>\n",
              "      <th>id</th>\n",
              "      <th>favourites_count</th>\n",
              "      <th>followers_count</th>\n",
              "      <th>statuses_count</th>\n",
              "      <th>friends_count</th>\n",
              "      <th>default_profile</th>\n",
              "      <th>default_profile_image</th>\n",
              "      <th>profile_use_background_image</th>\n",
              "      <th>utc_offset</th>\n",
              "      <th>listed_count</th>\n",
              "      <th>geo_enabled</th>\n",
              "      <th>lang_num</th>\n",
              "    </tr>\n",
              "  </thead>\n",
              "  <tbody>\n",
              "    <tr>\n",
              "      <th>0</th>\n",
              "      <td>616227442</td>\n",
              "      <td>0</td>\n",
              "      <td>21</td>\n",
              "      <td>52</td>\n",
              "      <td>527</td>\n",
              "      <td>1.0</td>\n",
              "      <td>NaN</td>\n",
              "      <td>1.0</td>\n",
              "      <td>NaN</td>\n",
              "      <td>0</td>\n",
              "      <td>NaN</td>\n",
              "      <td>5</td>\n",
              "    </tr>\n",
              "    <tr>\n",
              "      <th>1</th>\n",
              "      <td>616634356</td>\n",
              "      <td>0</td>\n",
              "      <td>13</td>\n",
              "      <td>37</td>\n",
              "      <td>404</td>\n",
              "      <td>1.0</td>\n",
              "      <td>NaN</td>\n",
              "      <td>1.0</td>\n",
              "      <td>NaN</td>\n",
              "      <td>0</td>\n",
              "      <td>NaN</td>\n",
              "      <td>5</td>\n",
              "    </tr>\n",
              "    <tr>\n",
              "      <th>2</th>\n",
              "      <td>836742500</td>\n",
              "      <td>13256</td>\n",
              "      <td>1293</td>\n",
              "      <td>52736</td>\n",
              "      <td>1226</td>\n",
              "      <td>NaN</td>\n",
              "      <td>NaN</td>\n",
              "      <td>1.0</td>\n",
              "      <td>NaN</td>\n",
              "      <td>6</td>\n",
              "      <td>1.0</td>\n",
              "      <td>5</td>\n",
              "    </tr>\n",
              "    <tr>\n",
              "      <th>3</th>\n",
              "      <td>448116475</td>\n",
              "      <td>11</td>\n",
              "      <td>2</td>\n",
              "      <td>34</td>\n",
              "      <td>584</td>\n",
              "      <td>1.0</td>\n",
              "      <td>NaN</td>\n",
              "      <td>1.0</td>\n",
              "      <td>NaN</td>\n",
              "      <td>0</td>\n",
              "      <td>NaN</td>\n",
              "      <td>19</td>\n",
              "    </tr>\n",
              "    <tr>\n",
              "      <th>4</th>\n",
              "      <td>169325249</td>\n",
              "      <td>107</td>\n",
              "      <td>407</td>\n",
              "      <td>4996</td>\n",
              "      <td>416</td>\n",
              "      <td>NaN</td>\n",
              "      <td>NaN</td>\n",
              "      <td>1.0</td>\n",
              "      <td>-25200.0</td>\n",
              "      <td>7</td>\n",
              "      <td>1.0</td>\n",
              "      <td>5</td>\n",
              "    </tr>\n",
              "  </tbody>\n",
              "</table>\n",
              "</div>"
            ],
            "text/plain": [
              "          id  favourites_count  ...  geo_enabled  lang_num\n",
              "0  616227442                 0  ...          NaN         5\n",
              "1  616634356                 0  ...          NaN         5\n",
              "2  836742500             13256  ...          1.0         5\n",
              "3  448116475                11  ...          NaN        19\n",
              "4  169325249               107  ...          1.0         5\n",
              "\n",
              "[5 rows x 12 columns]"
            ]
          },
          "metadata": {
            "tags": []
          },
          "execution_count": 23
        }
      ]
    },
    {
      "cell_type": "code",
      "metadata": {
        "id": "JIfz8ogDM0BC",
        "colab_type": "code",
        "colab": {
          "base_uri": "https://localhost:8080/",
          "height": 238
        },
        "outputId": "71864dde-ac18-4b32-ca11-3ec487fdb6b3"
      },
      "source": [
        "df1.isnull().sum()"
      ],
      "execution_count": null,
      "outputs": [
        {
          "output_type": "execute_result",
          "data": {
            "text/plain": [
              "id                                 0\n",
              "favourites_count                   0\n",
              "followers_count                    0\n",
              "statuses_count                     0\n",
              "friends_count                      0\n",
              "default_profile                 2759\n",
              "default_profile_image           6806\n",
              "profile_use_background_image     399\n",
              "utc_offset                      4015\n",
              "listed_count                       0\n",
              "geo_enabled                     4531\n",
              "lang_num                           0\n",
              "dtype: int64"
            ]
          },
          "metadata": {
            "tags": []
          },
          "execution_count": 24
        }
      ]
    },
    {
      "cell_type": "code",
      "metadata": {
        "id": "HSe1m7IoM0BQ",
        "colab_type": "code",
        "colab": {}
      },
      "source": [
        "df1 = df1.replace(np.nan, 0) #To replace the missing boolean values with zeros as it means false"
      ],
      "execution_count": null,
      "outputs": []
    },
    {
      "cell_type": "code",
      "metadata": {
        "id": "QQYBtr8BM0BZ",
        "colab_type": "code",
        "colab": {
          "base_uri": "https://localhost:8080/",
          "height": 238
        },
        "outputId": "752f7f5a-b91f-435f-8d6b-57e3897d9e30"
      },
      "source": [
        "df1.isnull().sum()"
      ],
      "execution_count": null,
      "outputs": [
        {
          "output_type": "execute_result",
          "data": {
            "text/plain": [
              "id                              0\n",
              "favourites_count                0\n",
              "followers_count                 0\n",
              "statuses_count                  0\n",
              "friends_count                   0\n",
              "default_profile                 0\n",
              "default_profile_image           0\n",
              "profile_use_background_image    0\n",
              "utc_offset                      0\n",
              "listed_count                    0\n",
              "geo_enabled                     0\n",
              "lang_num                        0\n",
              "dtype: int64"
            ]
          },
          "metadata": {
            "tags": []
          },
          "execution_count": 26
        }
      ]
    },
    {
      "cell_type": "markdown",
      "metadata": {
        "id": "S73qGfis8Yb5",
        "colab_type": "text"
      },
      "source": [
        "# Input Data"
      ]
    },
    {
      "cell_type": "code",
      "metadata": {
        "id": "zMxwuGWNM0Be",
        "colab_type": "code",
        "colab": {}
      },
      "source": [
        "from sklearn.model_selection import train_test_split\n",
        "X_train, X_test, y_train, y_test = train_test_split(df1, Y, test_size=0.3) # 70% training and 30% test"
      ],
      "execution_count": null,
      "outputs": []
    },
    {
      "cell_type": "code",
      "metadata": {
        "id": "a3a_-CSCM0Bj",
        "colab_type": "code",
        "colab": {
          "base_uri": "https://localhost:8080/",
          "height": 85
        },
        "outputId": "a6a515d0-4551-4a9b-b20e-a044d92679b2"
      },
      "source": [
        "print(X_train.shape)\n",
        "print(X_test.shape)\n",
        "print(y_train.shape)\n",
        "print(y_test.shape)"
      ],
      "execution_count": null,
      "outputs": [
        {
          "output_type": "stream",
          "text": [
            "(4777, 12)\n",
            "(2048, 12)\n",
            "(4777,)\n",
            "(2048,)\n"
          ],
          "name": "stdout"
        }
      ]
    },
    {
      "cell_type": "code",
      "metadata": {
        "id": "5c1U__ejM0Bp",
        "colab_type": "code",
        "colab": {}
      },
      "source": [
        "from sklearn.model_selection import cross_val_score\n",
        "from sklearn.model_selection import ShuffleSplit"
      ],
      "execution_count": null,
      "outputs": []
    },
    {
      "cell_type": "code",
      "metadata": {
        "id": "tAm8745_M0Bs",
        "colab_type": "code",
        "colab": {}
      },
      "source": [
        "cv=ShuffleSplit(n_splits=10,random_state=42,test_size=0.3)"
      ],
      "execution_count": null,
      "outputs": []
    },
    {
      "cell_type": "markdown",
      "metadata": {
        "id": "T7JAWy69M0Bv",
        "colab_type": "text"
      },
      "source": [
        "# XGB Classifer"
      ]
    },
    {
      "cell_type": "code",
      "metadata": {
        "id": "H-ypmdagM0Bw",
        "colab_type": "code",
        "colab": {
          "base_uri": "https://localhost:8080/",
          "height": 51
        },
        "outputId": "3ef5a459-fea6-4cea-fa56-b12735dbf6b2"
      },
      "source": [
        "from xgboost import XGBClassifier\n",
        "cross_val_score(XGBClassifier(),df1,Y,scoring='accuracy',cv=cv)"
      ],
      "execution_count": null,
      "outputs": [
        {
          "output_type": "execute_result",
          "data": {
            "text/plain": [
              "array([0.99316406, 0.99560547, 0.99121094, 0.99609375, 0.9921875 ,\n",
              "       0.99121094, 0.98828125, 0.99072266, 0.99267578, 0.98876953])"
            ]
          },
          "metadata": {
            "tags": []
          },
          "execution_count": 31
        }
      ]
    },
    {
      "cell_type": "code",
      "metadata": {
        "id": "e05FFgYOM0B0",
        "colab_type": "code",
        "colab": {
          "base_uri": "https://localhost:8080/",
          "height": 136
        },
        "outputId": "38eb0137-c081-40dc-c7c4-ac760562fa24"
      },
      "source": [
        "classifier = XGBClassifier()\n",
        "classifier.fit(X_train, y_train)"
      ],
      "execution_count": null,
      "outputs": [
        {
          "output_type": "execute_result",
          "data": {
            "text/plain": [
              "XGBClassifier(base_score=0.5, booster='gbtree', colsample_bylevel=1,\n",
              "              colsample_bynode=1, colsample_bytree=1, gamma=0,\n",
              "              learning_rate=0.1, max_delta_step=0, max_depth=3,\n",
              "              min_child_weight=1, missing=None, n_estimators=100, n_jobs=1,\n",
              "              nthread=None, objective='binary:logistic', random_state=0,\n",
              "              reg_alpha=0, reg_lambda=1, scale_pos_weight=1, seed=None,\n",
              "              silent=None, subsample=1, verbosity=1)"
            ]
          },
          "metadata": {
            "tags": []
          },
          "execution_count": 32
        }
      ]
    },
    {
      "cell_type": "code",
      "metadata": {
        "id": "EA8nHzm5M0B6",
        "colab_type": "code",
        "colab": {}
      },
      "source": [
        "# make predictions for test data\n",
        "y_pred = classifier.predict(X_test)\n",
        "predictions = [round(value) for value in y_pred]"
      ],
      "execution_count": null,
      "outputs": []
    },
    {
      "cell_type": "code",
      "metadata": {
        "id": "sp2UiThrM0B9",
        "colab_type": "code",
        "colab": {
          "base_uri": "https://localhost:8080/",
          "height": 34
        },
        "outputId": "6637f177-0de7-4d07-84f0-d1fb1a056b74"
      },
      "source": [
        "from sklearn.metrics import accuracy_score\n",
        "accuracy = accuracy_score(y_test, predictions)\n",
        "x=accuracy\n",
        "print(\"Accuracy: %.2f%%\" % (accuracy * 100.0))"
      ],
      "execution_count": null,
      "outputs": [
        {
          "output_type": "stream",
          "text": [
            "Accuracy: 99.46%\n"
          ],
          "name": "stdout"
        }
      ]
    },
    {
      "cell_type": "markdown",
      "metadata": {
        "id": "4zqVbgaiM0CC",
        "colab_type": "text"
      },
      "source": [
        "# AdaBoost Classifier"
      ]
    },
    {
      "cell_type": "code",
      "metadata": {
        "id": "hxn6Z41OM0CC",
        "colab_type": "code",
        "colab": {}
      },
      "source": [
        "from sklearn.ensemble import AdaBoostClassifier\n",
        "classifier = AdaBoostClassifier(n_estimators=50,learning_rate=1)\n",
        "model = classifier.fit(X_train, y_train)\n",
        "y_pred = model.predict(X_test)"
      ],
      "execution_count": null,
      "outputs": []
    },
    {
      "cell_type": "code",
      "metadata": {
        "id": "sTZPv_59M0CQ",
        "colab_type": "code",
        "colab": {
          "base_uri": "https://localhost:8080/",
          "height": 34
        },
        "outputId": "37aa9812-ae0c-4995-e168-2dd7546e3f7e"
      },
      "source": [
        "from sklearn.metrics import accuracy_score\n",
        "accuracy = accuracy_score(y_test, y_pred)\n",
        "y=accuracy\n",
        "print(\"Accuracy: %.2f%%\" % (accuracy * 100.0))"
      ],
      "execution_count": null,
      "outputs": [
        {
          "output_type": "stream",
          "text": [
            "Accuracy: 99.17%\n"
          ],
          "name": "stdout"
        }
      ]
    },
    {
      "cell_type": "markdown",
      "metadata": {
        "id": "icVmwduVM0CW",
        "colab_type": "text"
      },
      "source": [
        "# Decision Tree Classifier"
      ]
    },
    {
      "cell_type": "code",
      "metadata": {
        "id": "HmvLrgMWM0CX",
        "colab_type": "code",
        "colab": {}
      },
      "source": [
        "from sklearn.tree import DecisionTreeClassifier # Import Decision Tree Classifier"
      ],
      "execution_count": null,
      "outputs": []
    },
    {
      "cell_type": "code",
      "metadata": {
        "id": "xKwyKIH0M0Cb",
        "colab_type": "code",
        "colab": {
          "base_uri": "https://localhost:8080/",
          "height": 51
        },
        "outputId": "427a2cf2-2016-4bb1-bbfd-28f4a54dc489"
      },
      "source": [
        "from sklearn.ensemble import RandomForestClassifier\n",
        "cross_val_score(DecisionTreeClassifier(),df1,Y,scoring='accuracy',cv=cv)"
      ],
      "execution_count": null,
      "outputs": [
        {
          "output_type": "execute_result",
          "data": {
            "text/plain": [
              "array([0.99023438, 0.99121094, 0.98681641, 0.98779297, 0.98583984,\n",
              "       0.99072266, 0.98242188, 0.98388672, 0.98535156, 0.98925781])"
            ]
          },
          "metadata": {
            "tags": []
          },
          "execution_count": 38
        }
      ]
    },
    {
      "cell_type": "code",
      "metadata": {
        "id": "paD5VmcwM0Ce",
        "colab_type": "code",
        "colab": {}
      },
      "source": [
        "from sklearn.preprocessing import StandardScaler\n",
        "sc = StandardScaler()\n",
        "X_train = sc.fit_transform(X_train)\n",
        "X_test = sc.transform(X_test)"
      ],
      "execution_count": null,
      "outputs": []
    },
    {
      "cell_type": "code",
      "metadata": {
        "id": "bT2j1XijM0Ck",
        "colab_type": "code",
        "colab": {}
      },
      "source": [
        "# Create Decision Tree classifer object\n",
        "classifier = DecisionTreeClassifier()\n",
        "# Train Decision Tree Classifer\n",
        "classifier = classifier.fit(X_train,y_train)\n",
        "#Predict the response for test dataset\n",
        "y_pred = classifier.predict(X_test)"
      ],
      "execution_count": null,
      "outputs": []
    },
    {
      "cell_type": "code",
      "metadata": {
        "id": "bA8DxrsHM0Co",
        "colab_type": "code",
        "colab": {
          "base_uri": "https://localhost:8080/",
          "height": 34
        },
        "outputId": "e58e443c-5b8c-4706-cb3a-0692a6994717"
      },
      "source": [
        "from sklearn.metrics import accuracy_score\n",
        "accuracy = accuracy_score(y_test, predictions)\n",
        "z=accuracy\n",
        "print(\"Accuracy: %.2f%%\" % (accuracy * 100.0))"
      ],
      "execution_count": null,
      "outputs": [
        {
          "output_type": "stream",
          "text": [
            "Accuracy: 99.46%\n"
          ],
          "name": "stdout"
        }
      ]
    },
    {
      "cell_type": "markdown",
      "metadata": {
        "id": "If9GYiIDM0Cu",
        "colab_type": "text"
      },
      "source": [
        "# Random Forest Classifier"
      ]
    },
    {
      "cell_type": "code",
      "metadata": {
        "id": "69CMUvf0M0Cu",
        "colab_type": "code",
        "colab": {
          "base_uri": "https://localhost:8080/",
          "height": 51
        },
        "outputId": "ee4d9102-a608-4dcd-bbd1-1d9facc2d8a2"
      },
      "source": [
        "from sklearn.ensemble import RandomForestClassifier\n",
        "cross_val_score(RandomForestClassifier(),df1,Y,scoring='accuracy',cv=cv)"
      ],
      "execution_count": null,
      "outputs": [
        {
          "output_type": "execute_result",
          "data": {
            "text/plain": [
              "array([0.99414062, 0.99462891, 0.99267578, 0.99560547, 0.99169922,\n",
              "       0.99169922, 0.98925781, 0.99072266, 0.99072266, 0.99072266])"
            ]
          },
          "metadata": {
            "tags": []
          },
          "execution_count": 42
        }
      ]
    },
    {
      "cell_type": "code",
      "metadata": {
        "id": "Lkl-smDRM0Cy",
        "colab_type": "code",
        "colab": {}
      },
      "source": [
        "#Import Random Forest Model\n",
        "from sklearn.ensemble import RandomForestClassifier\n",
        "#Create a Gaussian Classifier\n",
        "classifier=RandomForestClassifier(n_estimators=100)\n",
        "#Train the model using the training sets y_pred=clf.predict(X_test)\n",
        "classifier.fit(X_train,y_train)\n",
        "y_pred=classifier.predict(X_test)"
      ],
      "execution_count": null,
      "outputs": []
    },
    {
      "cell_type": "code",
      "metadata": {
        "id": "5ybnIjaRM0C2",
        "colab_type": "code",
        "colab": {
          "base_uri": "https://localhost:8080/",
          "height": 34
        },
        "outputId": "e678bf7e-7fe9-4bba-9e8c-27a26803dc07"
      },
      "source": [
        "from sklearn.metrics import accuracy_score\n",
        "accuracy = accuracy_score(y_test, y_pred)\n",
        "c=accuracy\n",
        "print(\"Accuracy: %.2f%%\" % (accuracy * 100.0))"
      ],
      "execution_count": null,
      "outputs": [
        {
          "output_type": "stream",
          "text": [
            "Accuracy: 99.37%\n"
          ],
          "name": "stdout"
        }
      ]
    },
    {
      "cell_type": "code",
      "metadata": {
        "id": "MNLt_ecIM0C8",
        "colab_type": "code",
        "colab": {}
      },
      "source": [
        "import sklearn\n",
        "from sklearn import ensemble\n",
        "from sklearn import tree\n",
        "from sklearn import svm\n",
        "\n",
        "import seaborn as sns\n",
        "\n",
        "model = [\n",
        "    ensemble.AdaBoostClassifier(),\n",
        "    ensemble.RandomForestClassifier(),     \n",
        "    tree.DecisionTreeClassifier(),\n",
        "    ensemble.ExtraTreesClassifier(),\n",
        "    svm.SVC(probability=True),\n",
        "    svm.LinearSVC(),\n",
        "    \n",
        "    ]"
      ],
      "execution_count": null,
      "outputs": []
    },
    {
      "cell_type": "code",
      "metadata": {
        "id": "oq13Q29KM0DB",
        "colab_type": "code",
        "colab": {
          "base_uri": "https://localhost:8080/",
          "height": 80
        },
        "outputId": "81bd9958-a226-46c3-d1bb-a6f42ae3fbe7"
      },
      "source": [
        "from sklearn.metrics import precision_score,recall_score\n",
        "from sklearn import metrics\n",
        "model_columns = []\n",
        "model_compare = pd.DataFrame(columns = model_columns)\n",
        "\n",
        "row_index = 0\n",
        "for alg in model: \n",
        "    predicted = alg.fit(X_train, y_train).predict(X_test)\n",
        "    model_compare.loc[row_index, 'model Test Accuracy'] = round(alg.score(X_test, y_test), 4)\n",
        "    model_compare.loc[row_index, 'model Precission'] = precision_score(y_test, predicted)\n",
        "    model_compare.loc[row_index, 'model Recall'] = recall_score(y_test, predicted)\n",
        "    \n",
        "model_compare.sort_values(by = ['model Test Accuracy'], ascending = False, inplace = True)    \n",
        "model_compare"
      ],
      "execution_count": null,
      "outputs": [
        {
          "output_type": "execute_result",
          "data": {
            "text/html": [
              "<div>\n",
              "<style scoped>\n",
              "    .dataframe tbody tr th:only-of-type {\n",
              "        vertical-align: middle;\n",
              "    }\n",
              "\n",
              "    .dataframe tbody tr th {\n",
              "        vertical-align: top;\n",
              "    }\n",
              "\n",
              "    .dataframe thead th {\n",
              "        text-align: right;\n",
              "    }\n",
              "</style>\n",
              "<table border=\"1\" class=\"dataframe\">\n",
              "  <thead>\n",
              "    <tr style=\"text-align: right;\">\n",
              "      <th></th>\n",
              "      <th>model Test Accuracy</th>\n",
              "      <th>model Precission</th>\n",
              "      <th>model Recall</th>\n",
              "    </tr>\n",
              "  </thead>\n",
              "  <tbody>\n",
              "    <tr>\n",
              "      <th>0</th>\n",
              "      <td>0.9727</td>\n",
              "      <td>0.956055</td>\n",
              "      <td>0.988889</td>\n",
              "    </tr>\n",
              "  </tbody>\n",
              "</table>\n",
              "</div>"
            ],
            "text/plain": [
              "   model Test Accuracy  model Precission  model Recall\n",
              "0               0.9727          0.956055      0.988889"
            ]
          },
          "metadata": {
            "tags": []
          },
          "execution_count": 46
        }
      ]
    },
    {
      "cell_type": "code",
      "metadata": {
        "id": "R0t2rWMiM0DH",
        "colab_type": "code",
        "colab": {
          "base_uri": "https://localhost:8080/",
          "height": 249
        },
        "outputId": "6499f9d1-28ed-4944-bb29-41369d8a0c88"
      },
      "source": [
        "import matplotlib.pyplot as plt\n",
        "%matplotlib inline\n",
        "# plt.figure(figsize=[10,8])\n",
        "\n",
        "# plt.bar(model, width = 0.5, color='#0504aa',alpha=0.7)\n",
        "# plt.ylim([0.85,1])\n",
        "# plt.grid(axis='y', alpha=0.75)\n",
        "# plt.xlabel('Value')\n",
        "# plt.ylabel('Frequency')\n",
        "# plt.xticks(fontsize=15)\n",
        "# plt.yticks(fontsize=15)\n",
        "# plt.ylabel('Frequency',fontsize=15)\n",
        "# plt.title('Normal Distribution Histogram')\n",
        "# plt.show()"
      ],
      "execution_count": null,
      "outputs": [
        {
          "output_type": "error",
          "ename": "TypeError",
          "evalue": "ignored",
          "traceback": [
            "\u001b[0;31m---------------------------------------------------------------------------\u001b[0m",
            "\u001b[0;31mTypeError\u001b[0m                                 Traceback (most recent call last)",
            "\u001b[0;32m<ipython-input-49-8703bb72f9ec>\u001b[0m in \u001b[0;36m<module>\u001b[0;34m()\u001b[0m\n\u001b[1;32m      3\u001b[0m \u001b[0mplt\u001b[0m\u001b[0;34m.\u001b[0m\u001b[0mfigure\u001b[0m\u001b[0;34m(\u001b[0m\u001b[0mfigsize\u001b[0m\u001b[0;34m=\u001b[0m\u001b[0;34m[\u001b[0m\u001b[0;36m10\u001b[0m\u001b[0;34m,\u001b[0m\u001b[0;36m8\u001b[0m\u001b[0;34m]\u001b[0m\u001b[0;34m)\u001b[0m\u001b[0;34m\u001b[0m\u001b[0;34m\u001b[0m\u001b[0m\n\u001b[1;32m      4\u001b[0m \u001b[0;34m\u001b[0m\u001b[0m\n\u001b[0;32m----> 5\u001b[0;31m \u001b[0mplt\u001b[0m\u001b[0;34m.\u001b[0m\u001b[0mbar\u001b[0m\u001b[0;34m(\u001b[0m\u001b[0mmodel_compare\u001b[0m\u001b[0;34m,\u001b[0m \u001b[0mwidth\u001b[0m \u001b[0;34m=\u001b[0m \u001b[0;36m0.5\u001b[0m\u001b[0;34m,\u001b[0m \u001b[0mcolor\u001b[0m\u001b[0;34m=\u001b[0m\u001b[0;34m'#0504aa'\u001b[0m\u001b[0;34m,\u001b[0m\u001b[0malpha\u001b[0m\u001b[0;34m=\u001b[0m\u001b[0;36m0.7\u001b[0m\u001b[0;34m)\u001b[0m\u001b[0;34m\u001b[0m\u001b[0;34m\u001b[0m\u001b[0m\n\u001b[0m\u001b[1;32m      6\u001b[0m \u001b[0mplt\u001b[0m\u001b[0;34m.\u001b[0m\u001b[0mylim\u001b[0m\u001b[0;34m(\u001b[0m\u001b[0;34m[\u001b[0m\u001b[0;36m0.85\u001b[0m\u001b[0;34m,\u001b[0m\u001b[0;36m1\u001b[0m\u001b[0;34m]\u001b[0m\u001b[0;34m)\u001b[0m\u001b[0;34m\u001b[0m\u001b[0;34m\u001b[0m\u001b[0m\n\u001b[1;32m      7\u001b[0m \u001b[0mplt\u001b[0m\u001b[0;34m.\u001b[0m\u001b[0mgrid\u001b[0m\u001b[0;34m(\u001b[0m\u001b[0maxis\u001b[0m\u001b[0;34m=\u001b[0m\u001b[0;34m'y'\u001b[0m\u001b[0;34m,\u001b[0m \u001b[0malpha\u001b[0m\u001b[0;34m=\u001b[0m\u001b[0;36m0.75\u001b[0m\u001b[0;34m)\u001b[0m\u001b[0;34m\u001b[0m\u001b[0;34m\u001b[0m\u001b[0m\n",
            "\u001b[0;31mTypeError\u001b[0m: bar() missing 1 required positional argument: 'height'"
          ]
        },
        {
          "output_type": "display_data",
          "data": {
            "text/plain": [
              "<Figure size 720x576 with 0 Axes>"
            ]
          },
          "metadata": {
            "tags": []
          }
        }
      ]
    },
    {
      "cell_type": "code",
      "metadata": {
        "id": "YbmWgwQ-M0DN",
        "colab_type": "code",
        "colab": {
          "base_uri": "https://localhost:8080/",
          "height": 413
        },
        "outputId": "4beae136-551b-4e76-b1b7-0312871a847e"
      },
      "source": [
        "plt.subplots(figsize=(8,5))\n",
        "data=[]\n",
        "data.append(x)\n",
        "data.append(y)\n",
        "data.append(0.994)\n",
        "data.append(c)\n",
        "label=['XG BOOST','ADA BOOST','DECISION TREE','RANDOM FOREST']\n",
        "sns.barplot(label,data,palette='hot',edgecolor=sns.color_palette('dark',7))\n",
        "plt.xticks(rotation=90)\n",
        "plt.ylim([0.97,1])\n",
        "plt.title('model Acurracy Comparison')\n",
        "plt.show()"
      ],
      "execution_count": null,
      "outputs": [
        {
          "output_type": "display_data",
          "data": {
            "image/png": "[encoded data removed]",
            "text/plain": [
              "<Figure size 576x360 with 1 Axes>"
            ]
          },
          "metadata": {
            "tags": [],
            "needs_background": "light"
          }
        }
      ]
    },
    {
      "cell_type": "code",
      "metadata": {
        "id": "inGqBVf2M0DU",
        "colab_type": "code",
        "colab": {
          "base_uri": "https://localhost:8080/",
          "height": 483
        },
        "outputId": "681e83d6-8a15-41c0-fb28-feef2e6cce51"
      },
      "source": [
        "plt.subplots(figsize=(15,6))\n",
        "sns.barplot(data=model_compare,palette='hot',edgecolor=sns.color_palette('OrRd',9))\n",
        "plt.xticks(rotation=90)\n",
        "plt.ylim([0.85,1])\n",
        "plt.title('model Recall Comparison')\n",
        "plt.show()\n",
        "# 'Accent', 'Accent_r', 'Blues', 'Blues_r', 'BrBG', 'BrBG_r', 'BuGn', 'BuGn_r', 'BuPu', 'BuPu_r', 'CMRmap', 'CMRmap_r', 'Dark2', 'Dark2_r', 'GnBu', 'GnBu_r', 'Greens', 'Greens_r', 'Greys', 'Greys_r', 'OrRd', 'OrRd_r', 'Oranges', 'Oranges_r', 'PRGn', 'PRGn_r', 'Paired', 'Paired_r', 'Pastel1', 'Pastel1_r', 'Pastel2', 'Pastel2_r', 'PiYG', 'PiYG_r', 'PuBu', 'PuBuGn', 'PuBuGn_r', 'PuBu_r', 'PuOr', 'PuOr_r', 'PuRd', 'PuRd_r', 'Purples', 'Purples_r', 'RdBu', 'RdBu_r', 'RdGy', 'RdGy_r', 'RdPu', 'RdPu_r', 'RdYlBu', 'RdYlBu_r', 'RdYlGn', 'RdYlGn_r', 'Reds', 'Reds_r', 'Set1', 'Set1_r', 'Set2', 'Set2_r', 'Set3', 'Set3_r', 'Spectral', 'Spectral_r', 'Wistia', 'Wistia_r', 'YlGn', 'YlGnBu', 'YlGnBu_r', 'YlGn_r', 'YlOrBr', 'YlOrBr_r', 'YlOrRd', 'YlOrRd_r', 'afmhot', 'afmhot_r', 'autumn', 'autumn_r', 'binary', 'binary_r', 'bone', 'bone_r', 'brg', 'brg_r', 'bwr', 'bwr_r', 'cividis', 'cividis_r', 'cool', 'cool_r', 'coolwarm', 'coolwarm_r', 'copper', 'copper_r', 'cubehelix', 'cubehelix_r', 'flag', 'flag_r', 'gist_earth', 'gist_earth_r', 'gist_gray', 'gist_gray_r', 'gist_heat', 'gist_heat_r', 'gist_ncar', 'gist_ncar_r', 'gist_rainbow', 'gist_rainbow_r', 'gist_stern', 'gist_stern_r', 'gist_yarg', 'gist_yarg_r', 'gnuplot', 'gnuplot2', 'gnuplot2_r', 'gnuplot_r', 'gray', 'gray_r', 'hot', 'hot_r', 'hsv', 'hsv_r', 'icefire', 'icefire_r', 'inferno', 'inferno_r', 'jet', 'jet_r', 'magma', 'magma_r', 'mako', 'mako_r', 'nipy_..."
      ],
      "execution_count": null,
      "outputs": [
        {
          "output_type": "display_data",
          "data": {
            "image/png": "[encoded data removed]",
            "text/plain": [
              "<Figure size 1080x432 with 1 Axes>"
            ]
          },
          "metadata": {
            "tags": [],
            "needs_background": "light"
          }
        }
      ]
    },
    {
      "cell_type": "code",
      "metadata": {
        "id": "jRzTfI1VM0DX",
        "colab_type": "code",
        "colab": {
          "base_uri": "https://localhost:8080/",
          "height": 250
        },
        "outputId": "958e3185-089a-449d-b4e0-127a9846956a"
      },
      "source": [
        "# index = 1\n",
        "# for alg in model:\n",
        "#     predicted = alg.fit(X_train, y_train).predict(X_test)\n",
        "#     roc_auc_model = metrics.auc(fp, tp)\n",
        "#     model_name = alg.__class__.__name__\n",
        "#     plt.plot(fp, tp, lw=2, alpha=0.3, label='ROC %s (AUC = %0.2f)'  % (model_name, roc_auc_model))\n",
        "\n",
        "# plt.title('ROC Curve comparison')\n",
        "# plt.legend(bbox_to_anchor=(1.05, 1), loc=2, borderaxespad=0.)\n",
        "# plt.xlim([0,1])\n",
        "# plt.ylim([0,1])\n",
        "# plt.ylabel('True Positive Rate')\n",
        "# plt.xlabel('False Positive Rate')    \n",
        "# plt.show()"
      ],
      "execution_count": null,
      "outputs": [
        {
          "output_type": "error",
          "ename": "NameError",
          "evalue": "ignored",
          "traceback": [
            "\u001b[0;31m---------------------------------------------------------------------------\u001b[0m",
            "\u001b[0;31mNameError\u001b[0m                                 Traceback (most recent call last)",
            "\u001b[0;32m<ipython-input-58-442568944a24>\u001b[0m in \u001b[0;36m<module>\u001b[0;34m()\u001b[0m\n\u001b[1;32m      2\u001b[0m \u001b[0;32mfor\u001b[0m \u001b[0malg\u001b[0m \u001b[0;32min\u001b[0m \u001b[0mmodel\u001b[0m\u001b[0;34m:\u001b[0m\u001b[0;34m\u001b[0m\u001b[0;34m\u001b[0m\u001b[0m\n\u001b[1;32m      3\u001b[0m     \u001b[0mpredicted\u001b[0m \u001b[0;34m=\u001b[0m \u001b[0malg\u001b[0m\u001b[0;34m.\u001b[0m\u001b[0mfit\u001b[0m\u001b[0;34m(\u001b[0m\u001b[0mX_train\u001b[0m\u001b[0;34m,\u001b[0m \u001b[0my_train\u001b[0m\u001b[0;34m)\u001b[0m\u001b[0;34m.\u001b[0m\u001b[0mpredict\u001b[0m\u001b[0;34m(\u001b[0m\u001b[0mX_test\u001b[0m\u001b[0;34m)\u001b[0m\u001b[0;34m\u001b[0m\u001b[0;34m\u001b[0m\u001b[0m\n\u001b[0;32m----> 4\u001b[0;31m     \u001b[0mroc_auc_model\u001b[0m \u001b[0;34m=\u001b[0m \u001b[0mmetrics\u001b[0m\u001b[0;34m.\u001b[0m\u001b[0mauc\u001b[0m\u001b[0;34m(\u001b[0m\u001b[0mfp\u001b[0m\u001b[0;34m,\u001b[0m \u001b[0mtp\u001b[0m\u001b[0;34m)\u001b[0m\u001b[0;34m\u001b[0m\u001b[0;34m\u001b[0m\u001b[0m\n\u001b[0m\u001b[1;32m      5\u001b[0m     \u001b[0mmodel_name\u001b[0m \u001b[0;34m=\u001b[0m \u001b[0malg\u001b[0m\u001b[0;34m.\u001b[0m\u001b[0m__class__\u001b[0m\u001b[0;34m.\u001b[0m\u001b[0m__name__\u001b[0m\u001b[0;34m\u001b[0m\u001b[0;34m\u001b[0m\u001b[0m\n\u001b[1;32m      6\u001b[0m     \u001b[0mplt\u001b[0m\u001b[0;34m.\u001b[0m\u001b[0mplot\u001b[0m\u001b[0;34m(\u001b[0m\u001b[0mfp\u001b[0m\u001b[0;34m,\u001b[0m \u001b[0mtp\u001b[0m\u001b[0;34m,\u001b[0m \u001b[0mlw\u001b[0m\u001b[0;34m=\u001b[0m\u001b[0;36m2\u001b[0m\u001b[0;34m,\u001b[0m \u001b[0malpha\u001b[0m\u001b[0;34m=\u001b[0m\u001b[0;36m0.3\u001b[0m\u001b[0;34m,\u001b[0m \u001b[0mlabel\u001b[0m\u001b[0;34m=\u001b[0m\u001b[0;34m'ROC %s (AUC = %0.2f)'\u001b[0m  \u001b[0;34m%\u001b[0m \u001b[0;34m(\u001b[0m\u001b[0mmodel_name\u001b[0m\u001b[0;34m,\u001b[0m \u001b[0mroc_auc_model\u001b[0m\u001b[0;34m)\u001b[0m\u001b[0;34m)\u001b[0m\u001b[0;34m\u001b[0m\u001b[0;34m\u001b[0m\u001b[0m\n",
            "\u001b[0;31mNameError\u001b[0m: name 'fp' is not defined"
          ]
        }
      ]
    },
    {
      "cell_type": "code",
      "metadata": {
        "id": "zOLQji-EOJ4u",
        "colab_type": "code",
        "colab": {}
      },
      "source": [
        ""
      ],
      "execution_count": null,
      "outputs": []
    }
  ]
}